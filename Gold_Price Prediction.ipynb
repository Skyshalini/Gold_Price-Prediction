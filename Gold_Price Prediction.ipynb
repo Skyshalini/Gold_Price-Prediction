{
 "cells": [
  {
   "cell_type": "markdown",
   "id": "cee3de12",
   "metadata": {},
   "source": [
    "# Importing the Libraries"
   ]
  },
  {
   "cell_type": "code",
   "execution_count": 1,
   "id": "1f5092da",
   "metadata": {},
   "outputs": [],
   "source": [
    "import numpy as np\n",
    "import pandas as pd\n",
    "import matplotlib.pyplot as plt\n",
    "import seaborn as sns\n",
    "from sklearn.model_selection import train_test_split\n",
    "from sklearn.ensemble import RandomForestRegressor\n",
    "from sklearn import metrics"
   ]
  },
  {
   "cell_type": "markdown",
   "id": "e9ef314c",
   "metadata": {},
   "source": [
    "Data Collection and Processing"
   ]
  },
  {
   "cell_type": "code",
   "execution_count": 6,
   "id": "4cae6e91",
   "metadata": {},
   "outputs": [],
   "source": [
    "# loadingthe csv data to a Pandas DataFrame\n",
    "data = pd.read_csv('data.csv')"
   ]
  },
  {
   "cell_type": "code",
   "execution_count": 7,
   "id": "8acbe929",
   "metadata": {},
   "outputs": [
    {
     "data": {
      "text/html": [
       "<div>\n",
       "<style scoped>\n",
       "    .dataframe tbody tr th:only-of-type {\n",
       "        vertical-align: middle;\n",
       "    }\n",
       "\n",
       "    .dataframe tbody tr th {\n",
       "        vertical-align: top;\n",
       "    }\n",
       "\n",
       "    .dataframe thead th {\n",
       "        text-align: right;\n",
       "    }\n",
       "</style>\n",
       "<table border=\"1\" class=\"dataframe\">\n",
       "  <thead>\n",
       "    <tr style=\"text-align: right;\">\n",
       "      <th></th>\n",
       "      <th>Date</th>\n",
       "      <th>SPX</th>\n",
       "      <th>GLD</th>\n",
       "      <th>USO</th>\n",
       "      <th>SLV</th>\n",
       "      <th>EUR/USD</th>\n",
       "    </tr>\n",
       "  </thead>\n",
       "  <tbody>\n",
       "    <tr>\n",
       "      <th>0</th>\n",
       "      <td>01-02-2008</td>\n",
       "      <td>1447.160034</td>\n",
       "      <td>84.860001</td>\n",
       "      <td>78.470001</td>\n",
       "      <td>15.180</td>\n",
       "      <td>1.471692</td>\n",
       "    </tr>\n",
       "    <tr>\n",
       "      <th>1</th>\n",
       "      <td>01-03-2008</td>\n",
       "      <td>1447.160034</td>\n",
       "      <td>85.570000</td>\n",
       "      <td>78.370003</td>\n",
       "      <td>15.285</td>\n",
       "      <td>1.474491</td>\n",
       "    </tr>\n",
       "    <tr>\n",
       "      <th>2</th>\n",
       "      <td>01-04-2008</td>\n",
       "      <td>1411.630005</td>\n",
       "      <td>85.129997</td>\n",
       "      <td>77.309998</td>\n",
       "      <td>15.167</td>\n",
       "      <td>1.475492</td>\n",
       "    </tr>\n",
       "    <tr>\n",
       "      <th>3</th>\n",
       "      <td>01-07-2008</td>\n",
       "      <td>1416.180054</td>\n",
       "      <td>84.769997</td>\n",
       "      <td>75.500000</td>\n",
       "      <td>15.053</td>\n",
       "      <td>1.468299</td>\n",
       "    </tr>\n",
       "    <tr>\n",
       "      <th>4</th>\n",
       "      <td>01-08-2008</td>\n",
       "      <td>1390.189941</td>\n",
       "      <td>86.779999</td>\n",
       "      <td>76.059998</td>\n",
       "      <td>15.590</td>\n",
       "      <td>1.557099</td>\n",
       "    </tr>\n",
       "  </tbody>\n",
       "</table>\n",
       "</div>"
      ],
      "text/plain": [
       "         Date          SPX        GLD        USO     SLV   EUR/USD\n",
       "0  01-02-2008  1447.160034  84.860001  78.470001  15.180  1.471692\n",
       "1  01-03-2008  1447.160034  85.570000  78.370003  15.285  1.474491\n",
       "2  01-04-2008  1411.630005  85.129997  77.309998  15.167  1.475492\n",
       "3  01-07-2008  1416.180054  84.769997  75.500000  15.053  1.468299\n",
       "4  01-08-2008  1390.189941  86.779999  76.059998  15.590  1.557099"
      ]
     },
     "execution_count": 7,
     "metadata": {},
     "output_type": "execute_result"
    }
   ],
   "source": [
    "data.head()"
   ]
  },
  {
   "cell_type": "code",
   "execution_count": 8,
   "id": "64600903",
   "metadata": {},
   "outputs": [
    {
     "data": {
      "text/plain": [
       "(2290, 6)"
      ]
     },
     "execution_count": 8,
     "metadata": {},
     "output_type": "execute_result"
    }
   ],
   "source": [
    "data.shape"
   ]
  },
  {
   "cell_type": "code",
   "execution_count": 9,
   "id": "e08a7276",
   "metadata": {},
   "outputs": [
    {
     "name": "stdout",
     "output_type": "stream",
     "text": [
      "<class 'pandas.core.frame.DataFrame'>\n",
      "RangeIndex: 2290 entries, 0 to 2289\n",
      "Data columns (total 6 columns):\n",
      " #   Column   Non-Null Count  Dtype  \n",
      "---  ------   --------------  -----  \n",
      " 0   Date     2290 non-null   object \n",
      " 1   SPX      2290 non-null   float64\n",
      " 2   GLD      2290 non-null   float64\n",
      " 3   USO      2290 non-null   float64\n",
      " 4   SLV      2290 non-null   float64\n",
      " 5   EUR/USD  2290 non-null   float64\n",
      "dtypes: float64(5), object(1)\n",
      "memory usage: 107.5+ KB\n"
     ]
    }
   ],
   "source": [
    "data.info()"
   ]
  },
  {
   "cell_type": "code",
   "execution_count": 10,
   "id": "c753c583",
   "metadata": {},
   "outputs": [
    {
     "data": {
      "text/plain": [
       "Date       0\n",
       "SPX        0\n",
       "GLD        0\n",
       "USO        0\n",
       "SLV        0\n",
       "EUR/USD    0\n",
       "dtype: int64"
      ]
     },
     "execution_count": 10,
     "metadata": {},
     "output_type": "execute_result"
    }
   ],
   "source": [
    "data.isnull().sum()"
   ]
  },
  {
   "cell_type": "code",
   "execution_count": 11,
   "id": "40126470",
   "metadata": {},
   "outputs": [
    {
     "data": {
      "text/html": [
       "<div>\n",
       "<style scoped>\n",
       "    .dataframe tbody tr th:only-of-type {\n",
       "        vertical-align: middle;\n",
       "    }\n",
       "\n",
       "    .dataframe tbody tr th {\n",
       "        vertical-align: top;\n",
       "    }\n",
       "\n",
       "    .dataframe thead th {\n",
       "        text-align: right;\n",
       "    }\n",
       "</style>\n",
       "<table border=\"1\" class=\"dataframe\">\n",
       "  <thead>\n",
       "    <tr style=\"text-align: right;\">\n",
       "      <th></th>\n",
       "      <th>SPX</th>\n",
       "      <th>GLD</th>\n",
       "      <th>USO</th>\n",
       "      <th>SLV</th>\n",
       "      <th>EUR/USD</th>\n",
       "    </tr>\n",
       "  </thead>\n",
       "  <tbody>\n",
       "    <tr>\n",
       "      <th>count</th>\n",
       "      <td>2290.000000</td>\n",
       "      <td>2290.000000</td>\n",
       "      <td>2290.000000</td>\n",
       "      <td>2290.000000</td>\n",
       "      <td>2290.000000</td>\n",
       "    </tr>\n",
       "    <tr>\n",
       "      <th>mean</th>\n",
       "      <td>1654.315776</td>\n",
       "      <td>122.732875</td>\n",
       "      <td>31.842221</td>\n",
       "      <td>20.084997</td>\n",
       "      <td>1.283653</td>\n",
       "    </tr>\n",
       "    <tr>\n",
       "      <th>std</th>\n",
       "      <td>519.111540</td>\n",
       "      <td>23.283346</td>\n",
       "      <td>19.523517</td>\n",
       "      <td>7.092566</td>\n",
       "      <td>0.131547</td>\n",
       "    </tr>\n",
       "    <tr>\n",
       "      <th>min</th>\n",
       "      <td>676.530029</td>\n",
       "      <td>70.000000</td>\n",
       "      <td>7.960000</td>\n",
       "      <td>8.850000</td>\n",
       "      <td>1.039047</td>\n",
       "    </tr>\n",
       "    <tr>\n",
       "      <th>25%</th>\n",
       "      <td>1239.874969</td>\n",
       "      <td>109.725000</td>\n",
       "      <td>14.380000</td>\n",
       "      <td>15.570000</td>\n",
       "      <td>1.171313</td>\n",
       "    </tr>\n",
       "    <tr>\n",
       "      <th>50%</th>\n",
       "      <td>1551.434998</td>\n",
       "      <td>120.580002</td>\n",
       "      <td>33.869999</td>\n",
       "      <td>17.268500</td>\n",
       "      <td>1.303297</td>\n",
       "    </tr>\n",
       "    <tr>\n",
       "      <th>75%</th>\n",
       "      <td>2073.010070</td>\n",
       "      <td>132.840004</td>\n",
       "      <td>37.827501</td>\n",
       "      <td>22.882500</td>\n",
       "      <td>1.369971</td>\n",
       "    </tr>\n",
       "    <tr>\n",
       "      <th>max</th>\n",
       "      <td>2872.870117</td>\n",
       "      <td>184.589996</td>\n",
       "      <td>117.480003</td>\n",
       "      <td>47.259998</td>\n",
       "      <td>1.598798</td>\n",
       "    </tr>\n",
       "  </tbody>\n",
       "</table>\n",
       "</div>"
      ],
      "text/plain": [
       "               SPX          GLD          USO          SLV      EUR/USD\n",
       "count  2290.000000  2290.000000  2290.000000  2290.000000  2290.000000\n",
       "mean   1654.315776   122.732875    31.842221    20.084997     1.283653\n",
       "std     519.111540    23.283346    19.523517     7.092566     0.131547\n",
       "min     676.530029    70.000000     7.960000     8.850000     1.039047\n",
       "25%    1239.874969   109.725000    14.380000    15.570000     1.171313\n",
       "50%    1551.434998   120.580002    33.869999    17.268500     1.303297\n",
       "75%    2073.010070   132.840004    37.827501    22.882500     1.369971\n",
       "max    2872.870117   184.589996   117.480003    47.259998     1.598798"
      ]
     },
     "execution_count": 11,
     "metadata": {},
     "output_type": "execute_result"
    }
   ],
   "source": [
    "# getting the statistical measures of the data\n",
    "data.describe()"
   ]
  },
  {
   "cell_type": "markdown",
   "id": "e2588f6a",
   "metadata": {},
   "source": [
    "Correlation"
   ]
  },
  {
   "cell_type": "code",
   "execution_count": 12,
   "id": "a126fd5f",
   "metadata": {},
   "outputs": [],
   "source": [
    "correlation = data.corr()"
   ]
  },
  {
   "cell_type": "code",
   "execution_count": 13,
   "id": "b83b2e3d",
   "metadata": {},
   "outputs": [
    {
     "data": {
      "text/plain": [
       "<AxesSubplot:>"
      ]
     },
     "execution_count": 13,
     "metadata": {},
     "output_type": "execute_result"
    },
    {
     "data": {
      "image/png": "[encoded data removed]",
      "text/plain": [
       "<Figure size 576x576 with 2 Axes>"
      ]
     },
     "metadata": {
      "needs_background": "light"
     },
     "output_type": "display_data"
    }
   ],
   "source": [
    "# constructing a heatmap to understand the correlatiom\n",
    "plt.figure(figsize = (8,8))\n",
    "sns.heatmap(correlation, cbar=True, square=True, fmt='.1f',annot=True, annot_kws={'size':8}, cmap='Blues')"
   ]
  },
  {
   "cell_type": "code",
   "execution_count": 14,
   "id": "5e5aade9",
   "metadata": {
    "scrolled": true
   },
   "outputs": [
    {
     "name": "stdout",
     "output_type": "stream",
     "text": [
      "SPX        0.049345\n",
      "GLD        1.000000\n",
      "USO       -0.186360\n",
      "SLV        0.866632\n",
      "EUR/USD   -0.024375\n",
      "Name: GLD, dtype: float64\n"
     ]
    }
   ],
   "source": [
    "# correlation values of GLD\n",
    "print(correlation['GLD'])"
   ]
  },
  {
   "cell_type": "code",
   "execution_count": 15,
   "id": "7b30b7c2",
   "metadata": {},
   "outputs": [
    {
     "name": "stderr",
     "output_type": "stream",
     "text": [
      "C:\\Users\\satya\\anaconda3\\lib\\site-packages\\seaborn\\distributions.py:2619: FutureWarning: `distplot` is a deprecated function and will be removed in a future version. Please adapt your code to use either `displot` (a figure-level function with similar flexibility) or `histplot` (an axes-level function for histograms).\n",
      "  warnings.warn(msg, FutureWarning)\n"
     ]
    },
    {
     "data": {
      "text/plain": [
       "<AxesSubplot:xlabel='GLD', ylabel='Density'>"
      ]
     },
     "execution_count": 15,
     "metadata": {},
     "output_type": "execute_result"
    },
    {
     "data": {
      "image/png": "[encoded data removed]",
      "text/plain": [
       "<Figure size 432x288 with 1 Axes>"
      ]
     },
     "metadata": {
      "needs_background": "light"
     },
     "output_type": "display_data"
    }
   ],
   "source": [
    "# checking the distribution of the GLD Price\n",
    "sns.distplot(data['GLD'],color='green')"
   ]
  },
  {
   "cell_type": "markdown",
   "id": "13e73b67",
   "metadata": {},
   "source": [
    "Splitting the Features and Target"
   ]
  },
  {
   "cell_type": "code",
   "execution_count": 16,
   "id": "31a008a0",
   "metadata": {},
   "outputs": [],
   "source": [
    "X = data.drop(['Date','GLD'],axis=1)\n",
    "Y = data['GLD']"
   ]
  },
  {
   "cell_type": "code",
   "execution_count": 18,
   "id": "b7d8c144",
   "metadata": {},
   "outputs": [
    {
     "name": "stdout",
     "output_type": "stream",
     "text": [
      "              SPX        USO      SLV   EUR/USD\n",
      "0     1447.160034  78.470001  15.1800  1.471692\n",
      "1     1447.160034  78.370003  15.2850  1.474491\n",
      "2     1411.630005  77.309998  15.1670  1.475492\n",
      "3     1416.180054  75.500000  15.0530  1.468299\n",
      "4     1390.189941  76.059998  15.5900  1.557099\n",
      "...           ...        ...      ...       ...\n",
      "2285  2671.919922  14.060000  15.5100  1.186789\n",
      "2286  2697.790039  14.370000  15.5300  1.184722\n",
      "2287  2723.070068  14.410000  15.7400  1.191753\n",
      "2288  2730.129883  14.380000  15.5600  1.193118\n",
      "2289  2725.780029  14.405800  15.4542  1.182033\n",
      "\n",
      "[2290 rows x 4 columns]\n"
     ]
    }
   ],
   "source": [
    "print(X)"
   ]
  },
  {
   "cell_type": "code",
   "execution_count": 19,
   "id": "851b631b",
   "metadata": {},
   "outputs": [
    {
     "name": "stdout",
     "output_type": "stream",
     "text": [
      "0        84.860001\n",
      "1        85.570000\n",
      "2        85.129997\n",
      "3        84.769997\n",
      "4        86.779999\n",
      "           ...    \n",
      "2285    124.589996\n",
      "2286    124.330002\n",
      "2287    125.180000\n",
      "2288    124.489998\n",
      "2289    122.543800\n",
      "Name: GLD, Length: 2290, dtype: float64\n"
     ]
    }
   ],
   "source": [
    "print(Y)"
   ]
  },
  {
   "cell_type": "markdown",
   "id": "a338c14a",
   "metadata": {},
   "source": [
    "Splitting into Training data and Test Data"
   ]
  },
  {
   "cell_type": "code",
   "execution_count": 20,
   "id": "6b430e3d",
   "metadata": {},
   "outputs": [],
   "source": [
    "X_train, X_test, Y_train, Y_test = train_test_split(X, Y, test_size = 0.2, random_state=2)"
   ]
  },
  {
   "cell_type": "markdown",
   "id": "4d5d9081",
   "metadata": {},
   "source": [
    "Model Training: Random Forest Regressor"
   ]
  },
  {
   "cell_type": "code",
   "execution_count": 21,
   "id": "68afc7dc",
   "metadata": {},
   "outputs": [],
   "source": [
    "regressor = RandomForestRegressor(n_estimators=100)"
   ]
  },
  {
   "cell_type": "code",
   "execution_count": 22,
   "id": "47e019c7",
   "metadata": {},
   "outputs": [
    {
     "data": {
      "text/plain": [
       "RandomForestRegressor()"
      ]
     },
     "execution_count": 22,
     "metadata": {},
     "output_type": "execute_result"
    }
   ],
   "source": [
    "# training the model\n",
    "regressor.fit(X_train,Y_train)"
   ]
  },
  {
   "cell_type": "markdown",
   "id": "88455074",
   "metadata": {},
   "source": [
    "Model Evaluation"
   ]
  },
  {
   "cell_type": "code",
   "execution_count": 23,
   "id": "85a28b64",
   "metadata": {},
   "outputs": [],
   "source": [
    "# prediction on Test Data\n",
    "test_data_prediction = regressor.predict(X_test)"
   ]
  },
  {
   "cell_type": "code",
   "execution_count": 24,
   "id": "69321dff",
   "metadata": {},
   "outputs": [
    {
     "name": "stdout",
     "output_type": "stream",
     "text": [
      "[168.58339947  82.01589973 115.7063002  127.72390087 120.7007018\n",
      " 154.72259777 150.41359824 125.89630062 117.49049877 125.97090078\n",
      " 116.84020067 172.29240034 141.92359803 167.81579833 115.31479987\n",
      " 117.35980035 136.95250367 170.34800101 159.56090294 159.67379906\n",
      " 155.11330012 125.46030022 175.49010022 157.70920277 125.14280021\n",
      "  93.82969977  78.09609963 120.53270006 119.08599921 167.44739991\n",
      "  88.3077004  125.00159966  91.14300091 117.69420009 121.11819912\n",
      " 136.65160069 115.51170122 115.13520073 145.97499963 107.28780077\n",
      " 104.54980251  87.26569768 126.49610074 117.85060029 153.77839893\n",
      " 119.64809963 108.55909996 108.19729809  93.15410052 127.20489728\n",
      "  74.87010045 113.65759919 121.02269988 111.33179938 118.89089895\n",
      " 120.75859926 159.42700051 169.12970066 147.03879696  85.76559842\n",
      "  94.43190039  86.85559858  90.55379999 119.02810049 126.41220059\n",
      " 127.60250009 169.22659952 122.1718995  117.28789921  98.77450035\n",
      " 167.4939017  143.15199835 131.65640265 121.11470237 120.69359932\n",
      " 119.67970045 114.39760153 118.4753004  106.96100071 127.83100064\n",
      " 113.97850001 107.7293996  116.83080081 119.67899874  89.05110056\n",
      "  88.31959887 145.94140228 127.15219973 113.11720022 110.07829855\n",
      " 108.37289896  77.18649911 169.6062016  114.12179898 121.57959922\n",
      " 128.3770026  154.91559827  91.80269943 134.79680139 159.1247038\n",
      " 125.13530097 125.09630061 130.69190177 114.87200107 119.87519985\n",
      "  92.17409998 110.34689875 166.80360027 156.48899932 114.31179954\n",
      " 106.8550013   79.46209974 113.16040066 125.74970065 107.58329946\n",
      " 119.50910119 155.91470382 159.8413991  119.86930007 133.87280313\n",
      " 101.40789991 117.7803978  119.28140041 112.99570091 102.83469936\n",
      " 160.23739808  99.01590031 148.4260993  125.50850111 169.16899863\n",
      " 125.93459777 127.36819769 127.37080134 113.5440995  113.39840068\n",
      " 123.53319922 102.13639905  89.42819963 124.28559981 101.72529957\n",
      " 107.21179914 113.3333007  117.27770047  98.97069918 121.69320063\n",
      " 164.04039996  87.48369855 106.45599962 117.18520044 127.70090124\n",
      " 124.08370052  80.90059914 120.23570093 157.93999789  88.09140019\n",
      " 110.19879946 118.61969922 172.19029866 102.9980989  105.85300021\n",
      " 122.49890007 158.41419737  87.63929843  93.05800045 112.69160036\n",
      " 176.64590003 114.45899983 119.27110053  94.41530064 125.87560007\n",
      " 166.25240078 114.99650083 116.66640127  88.36459881 148.73990062\n",
      " 120.36919918  89.27519977 111.50010004 116.96030065 118.75990111\n",
      "  88.36789986  94.03159998 116.88740022 118.374702   120.24450021\n",
      " 126.73819829 121.94389991 149.26289991 164.42510068 118.6130995\n",
      " 120.3724013  150.02420044 118.52679933 172.69299915 105.87919908\n",
      " 105.01710152 149.48090068 113.99150052 124.84660089 147.50859988\n",
      " 119.63880128 115.07010016 112.55240004 113.47230204 141.06450124\n",
      " 117.73669778 102.92910004 115.80280105 103.80450193  98.90570048\n",
      " 117.35450071  90.80240004  91.79840045 153.86459936 102.71269975\n",
      " 154.4838012  114.35960174 138.31680086  90.09939836 115.55339938\n",
      " 114.49259952 123.09510027 121.76840024 165.3049015   92.84369939\n",
      " 135.57020132 121.30219956 120.53560088 104.54889986 141.34020282\n",
      " 121.81849901 116.70130044 113.74270098 127.11179715 122.7800994\n",
      " 125.79339948 121.19990057  86.80419891 132.25070107 144.72770201\n",
      "  92.80489969 158.07629981 159.33860299 126.31149893 164.52039977\n",
      " 108.95329974 110.24800088 103.65329832  94.25840081 127.91840291\n",
      " 107.10600015 161.82189983 121.64520043 132.09579956 130.79180181\n",
      " 161.13310042  90.12969841 175.25090217 127.59819995 126.91079851\n",
      "  86.29049878 124.45109959 150.27509714  89.58390031 106.65119982\n",
      " 108.98199971  83.40989874 136.39579997 155.06850268 139.29200364\n",
      "  74.26040016 150.99380098 125.91089972 126.77299994 127.3245995\n",
      " 108.43699948 156.31909942 114.67440091 116.95550133 125.35559942\n",
      " 154.06910101 121.49179979 156.49039857  92.95460076 125.45810141\n",
      " 125.54260024  87.62480023  92.21759905 126.19429937 128.16270347\n",
      " 113.41220075 117.86649754 120.6478004  127.37679695 119.92610066\n",
      " 136.98980059  94.07379975 119.81030031 112.89660116  94.3110997\n",
      " 108.8859997   87.05539926 108.6593993   89.60959984  92.35470062\n",
      " 131.61850389 162.42580088  89.14250036 119.73080094 133.45940187\n",
      " 123.82990029 128.45570196 101.80199816  88.86339892 132.0096004\n",
      " 119.64930004 108.9830001  167.98669991 115.13330038  86.50559908\n",
      " 118.81120057  91.10509945 162.05250051 116.58760059 121.59910006\n",
      " 160.12019799 120.07839932 112.82599939 108.4941987  126.58119984\n",
      "  76.14550028 103.02269994 127.8068026  121.82799891  92.52799961\n",
      " 131.8621005  117.94950151 115.87570008 154.6331028  159.91540086\n",
      " 110.22029944 152.87149822 119.26710088 160.49400007 118.56390097\n",
      " 159.15129937 115.13809906 116.23260031 149.17719925 114.74560048\n",
      " 125.66839846 165.77209951 117.62150015 125.1165992  153.37280332\n",
      " 153.59380276 132.23859972 114.87860005 121.2438022  124.82120068\n",
      "  89.69850047 123.0718003  154.70130205 111.95180058 106.49519963\n",
      " 161.26510153 118.47619963 165.52619948 134.08740088 114.87889962\n",
      " 153.02249904 168.74330064 114.79520021 113.85490127 158.25919942\n",
      "  85.3316987  127.00840108 127.96570029 128.6973996  124.09540066\n",
      " 123.7099006   90.48890085 152.79190046  97.16259974 137.05139939\n",
      "  88.82099899 107.73079991 114.79920022 113.12200114 124.26909917\n",
      "  91.40119881 125.28600105 162.44409881 119.89519885 165.00240094\n",
      " 126.75679815 112.48750016 127.61159975  94.61079909  91.15209958\n",
      " 103.25939893 120.73410022  83.03169955 126.52120023 160.21400478\n",
      " 117.28230081 118.37149963 119.9518001  122.85309989 120.03650129\n",
      " 121.50729973 118.28210073 107.0574998  147.99859929 126.41709755\n",
      " 115.60290076  74.18929977 127.86810106 154.08860069 121.66039993\n",
      " 125.66410068  88.84940027 103.96589907 124.8484004  120.29610033\n",
      "  73.52770073 151.75739956 121.05780035 104.80240002  86.288098\n",
      " 114.9398992  172.05919779 119.86480029 160.27859746 113.26799967\n",
      " 121.19050031 118.50380157  95.89809982 118.75900063 125.80750018\n",
      " 118.4145994   96.06610086 153.8606017  121.96120016 147.20620004\n",
      " 159.47210212 113.91640025 122.54429922 150.29779852 127.15220048\n",
      " 165.77510059 135.41300035 119.99519942 167.49569905 108.46179919\n",
      " 121.6488985  138.93150137 106.92459886]\n"
     ]
    }
   ],
   "source": [
    "print(test_data_prediction)"
   ]
  },
  {
   "cell_type": "code",
   "execution_count": 25,
   "id": "98773025",
   "metadata": {},
   "outputs": [
    {
     "name": "stdout",
     "output_type": "stream",
     "text": [
      "R squared error :  0.9899559757215944\n"
     ]
    }
   ],
   "source": [
    "# R squared error\n",
    "error_score = metrics.r2_score(Y_test, test_data_prediction)\n",
    "print(\"R squared error : \", error_score)"
   ]
  },
  {
   "cell_type": "markdown",
   "id": "266a50e4",
   "metadata": {},
   "source": [
    "Compare the Actual Values and Predicted Values in a Plot"
   ]
  },
  {
   "cell_type": "code",
   "execution_count": 26,
   "id": "691bd2c0",
   "metadata": {},
   "outputs": [],
   "source": [
    "Y_test = list(Y_test)"
   ]
  },
  {
   "cell_type": "code",
   "execution_count": 27,
   "id": "48e92fc1",
   "metadata": {},
   "outputs": [
    {
     "data": {
      "image/png": "[encoded data removed]",
      "text/plain": [
       "<Figure size 432x288 with 1 Axes>"
      ]
     },
     "metadata": {
      "needs_background": "light"
     },
     "output_type": "display_data"
    }
   ],
   "source": [
    "plt.plot(Y_test, color='blue', label = 'Actual Value')\n",
    "plt.plot(test_data_prediction, color='green', label='Predicted Value')\n",
    "plt.title('Actual Price vs Predicted Price')\n",
    "plt.xlabel('Number of values')\n",
    "plt.ylabel('GLD Price')\n",
    "plt.legend()\n",
    "plt.show()"
   ]
  }
 ],
 "metadata": {
  "kernelspec": {
   "display_name": "Python 3 (ipykernel)",
   "language": "python",
   "name": "python3"
  },
  "language_info": {
   "codemirror_mode": {
    "name": "ipython",
    "version": 3
   },
   "file_extension": ".py",
   "mimetype": "text/x-python",
   "name": "python",
   "nbconvert_exporter": "python",
   "pygments_lexer": "ipython3",
   "version": "3.9.7"
  }
 },
 "nbformat": 4,
 "nbformat_minor": 5
}
